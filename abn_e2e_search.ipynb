{
 "cells": [
  {
   "metadata": {},
   "cell_type": "markdown",
   "source": "# Searching companies by what they do",
   "id": "626616ebf47fbbaa"
  },
  {
   "metadata": {},
   "cell_type": "markdown",
   "source": [
    "\n",
    "This notebook shows how we can use embeddings to generate vector representations of companies and then use these vectors to find companies based on what they do.\n",
    "\n",
    "The goal of this tutorial is not to develop the best possible method but to explore whether embedding company parameters can generate something useful.\n",
    "\n",
    "I also compared this approach with a keyword search to see how it performs. It was quite interesting to see the results side by side and judge."
   ],
   "id": "217b498c5ab31c22"
  },
  {
   "metadata": {},
   "cell_type": "markdown",
   "source": [
    "## Install opensearch\n",
    "\n",
    "We will use opensearch to store the data and search for companies. We will use the opensearch-dsl library to interact with opensearch.\n",
    "To do that and make this more reproducible, we will use docker to install opensearch."
   ],
   "id": "18cb4a191e6504d3"
  },
  {
   "metadata": {},
   "cell_type": "code",
   "source": "!docker pull opensearchproject/opensearch:2",
   "id": "f18067b38a3beee",
   "outputs": [],
   "execution_count": null
  },
  {
   "metadata": {},
   "cell_type": "markdown",
   "source": "A lot of the steps in this notebook are manual and can be automated. However, I wanted to keep it simple and show the steps involved in setting up the system.",
   "id": "d7f0851a84a448a"
  },
  {
   "metadata": {},
   "cell_type": "code",
   "source": "!docker run -d -p 9200:9200 -p 9600:9600 -e \"discovery.type=single-node\" -e \"OPENSEARCH_INITIAL_ADMIN_PASSWORD=opensearch-ABN-ameer-2024!\" opensearchproject/opensearch:2",
   "id": "384dab631509b08",
   "outputs": [],
   "execution_count": null
  },
  {
   "metadata": {},
   "cell_type": "markdown",
   "source": "## Install the required libraries",
   "id": "1339d337c4924a38"
  },
  {
   "metadata": {},
   "cell_type": "code",
   "source": "!pip install -r requirements.txt",
   "id": "4ffb97a1aa85918e",
   "outputs": [],
   "execution_count": null
  },
  {
   "metadata": {},
   "cell_type": "markdown",
   "source": "# Create index",
   "id": "9135a4632775c64f"
  },
  {
   "metadata": {},
   "cell_type": "code",
   "source": "from opensearchpy import OpenSearch",
   "id": "6099f4e25dd7586b",
   "outputs": [],
   "execution_count": null
  },
  {
   "metadata": {},
   "cell_type": "markdown",
   "source": "Disable many features of OpenSearch to allow querying it without worrying about SSL and certificate issues, which is useful for local development environments.",
   "id": "3c46e3df88ba497b"
  },
  {
   "metadata": {},
   "cell_type": "code",
   "source": [
    "client = OpenSearch('http://localhost:9200',  http_auth = ('admin','opensearch-ABN-ameer-2024!'), use_ssl = True, verify_certs = False,    ssl_assert_hostname = False,\n",
    "    ssl_show_warn = False)"
   ],
   "id": "28c566a27061e5d8",
   "outputs": [],
   "execution_count": null
  },
  {
   "metadata": {},
   "cell_type": "code",
   "source": "client.indices.create(index='abn', ignore=400)",
   "id": "fcd0707d47d2e20f",
   "outputs": [],
   "execution_count": null
  },
  {
   "metadata": {},
   "cell_type": "markdown",
   "source": "Double check we can search the index",
   "id": "4a0a49c7b9681d4c"
  },
  {
   "metadata": {},
   "cell_type": "code",
   "source": "client.search(index='abn')",
   "id": "f6c58a8ebe280f52",
   "outputs": [],
   "execution_count": null
  },
  {
   "metadata": {},
   "cell_type": "markdown",
   "source": [
    "## Downloading the data\n",
    "\n",
    "The data is extracted from the ABN bulk data and is stored in the test_data folder. For the sake of simplicity, I have only extracted the company name and the state of the company. I also kept the data small to make it easier to work with. A sample of the data is available in the test_data folder.\n",
    "\n",
    "If you would like to test with more data, you can grab the entire dataset from the ABN website and extract it to the test_data folder."
   ],
   "id": "b0ad6cddce268b6e"
  },
  {
   "metadata": {},
   "cell_type": "markdown",
   "source": "## Preparing the infrastructure to embedding ",
   "id": "4cb39c823fcaca1f"
  },
  {
   "metadata": {},
   "cell_type": "markdown",
   "source": "Choosing which model to use can be a daunting task, so I simply picked the best model in the benchmark that has a nice memory footprint and can be used on a local machine. I chose the e5-small-v2 model. I have used it before, and it was easy to download and use directly from within Sentence Transformers. Feel free to use any other model if you prefer.",
   "id": "cd0ea10e2585815e"
  },
  {
   "metadata": {},
   "cell_type": "code",
   "source": [
    "from sentence_transformers import SentenceTransformer\n",
    "\n",
    "def get_encoder(model_name=\"intfloat/e5-small-v2\"):\n",
    "    return SentenceTransformer(model_name)"
   ],
   "id": "74b742a20bbad4cd",
   "outputs": [],
   "execution_count": null
  },
  {
   "metadata": {},
   "cell_type": "markdown",
   "source": "### Load the model",
   "id": "77de2e4112ab9f3e"
  },
  {
   "metadata": {},
   "cell_type": "code",
   "source": "embedding_model = get_encoder(\"intfloat/e5-small-v2\")",
   "id": "1ac5a90dbd3f7c3a",
   "outputs": [],
   "execution_count": null
  },
  {
   "metadata": {},
   "cell_type": "markdown",
   "source": "### Prepare opensearch settings",
   "id": "e3b3b6a7088801fc"
  },
  {
   "metadata": {},
   "cell_type": "code",
   "source": [
    "# Define the mapping for the index\n",
    "index_settings = {\n",
    "  \"settings\": {\n",
    "    \"index.knn\": True\n",
    "  }\n",
    "}\n",
    "\n",
    "index_mappings = {\n",
    "    \"properties\": {\n",
    "      \"text-field\": {\n",
    "        \"type\": \"text\"\n",
    "      },\n",
    "      \"company_embeddings\": {\n",
    "        \"type\": \"knn_vector\",\n",
    "        \"dimension\": 384,\n",
    "        \"method\": {\n",
    "          \"name\": \"hnsw\",\n",
    "          \"space_type\": \"l2\",\n",
    "          \"engine\": \"lucene\"\n",
    "        }\n",
    "      }\n",
    "    }\n",
    "}\n",
    "\n",
    "try:\n",
    "    client.indices.delete(index='abn', ignore=400)\n",
    "except:\n",
    "    pass\n",
    "client.indices.create(index='abn', ignore=400)\n",
    "\n",
    "client.indices.close(index='abn')\n",
    "# Update the index with the defined mapping\n",
    "client.indices.put_settings(index='abn', body=index_settings)\n",
    "client.indices.put_mapping(index='abn', body=index_mappings)\n",
    "client.indices.open(index='abn')\n",
    "client.indices.get_settings(index='abn')\n",
    "client.indices.get_mapping(index='abn')"
   ],
   "id": "97c0ab6508253842",
   "outputs": [],
   "execution_count": null
  },
  {
   "metadata": {},
   "cell_type": "markdown",
   "source": [
    "\n",
    "### Ingest data"
   ],
   "id": "bafececde7417afd"
  },
  {
   "metadata": {},
   "cell_type": "markdown",
   "source": [
    "We will walk through the test_data folder and parse the data. We will then encode the company name and store it in the OpenSearch index.\n",
    "\n",
    "Note that OpenSearch provides the ability to generate embeddings as part of its pipeline, but for the sake of simplicity, I am generating the embeddings before storing the data in OpenSearch."
   ],
   "id": "4f9b6edf2125e0a4"
  },
  {
   "metadata": {},
   "cell_type": "code",
   "source": "from abn_bulk_data_parser import walk_and_parse",
   "id": "e4b10c2efa91c876",
   "outputs": [],
   "execution_count": null
  },
  {
   "metadata": {},
   "cell_type": "code",
   "source": [
    "for company in walk_and_parse(\"test_data\"):\n",
    "    company['company_embeddings'] = embedding_model.encode(company['company_name'],normalize_embeddings=True).tolist()\n",
    "    \n",
    "    # Ideally, we can do batch, but for the sake of simplicity, we will do one by one.\n",
    "    response = client.index(\"abn\",body=company)"
   ],
   "id": "acfaddbb2b8a3cb5",
   "execution_count": null,
   "outputs": []
  },
  {
   "metadata": {},
   "cell_type": "code",
   "source": [
    "client.search_template(index='abn',body=\n",
    "{\n",
    "  \"source\": { \n",
    "            \"query\":{\"match\":{\"company_name\": \"{{company_name}}\"}}},\n",
    "  \"params\": {\n",
    "    \"company_name\": \"TESTER\"\n",
    "  }\n",
    "}\n",
    ")"
   ],
   "id": "f6e8c76df74322fc",
   "outputs": [],
   "execution_count": null
  },
  {
   "metadata": {},
   "cell_type": "markdown",
   "source": "### Preparing some search templates",
   "id": "4e7d5ecd94590519"
  },
  {
   "metadata": {
    "ExecuteTime": {
     "end_time": "2024-07-09T14:51:14.063687Z",
     "start_time": "2024-07-09T14:51:13.968696Z"
    }
   },
   "cell_type": "code",
   "source": [
    "client.put_script ('company_keyword_search_template',\n",
    "{\n",
    "  \"script\": {\n",
    "   \"lang\": \"mustache\",\n",
    "   \"source\": { \n",
    "            \"query\":{\"match\":{\"company_name\": \"{{company_name}}\"}}},\n",
    "   \"params\": {\n",
    "    \"company_name\": \"TESTER\"\n",
    "   }\n",
    "  }\n",
    "})"
   ],
   "id": "f1fa928280a8d612",
   "outputs": [
    {
     "data": {
      "text/plain": [
       "{'acknowledged': True}"
      ]
     },
     "execution_count": 306,
     "metadata": {},
     "output_type": "execute_result"
    }
   ],
   "execution_count": 306
  },
  {
   "metadata": {},
   "cell_type": "code",
   "source": [
    "client.put_script ('company_knn_search_template',\n",
    "{\n",
    "  \"script\": {\n",
    "    \"lang\": \"mustache\",\n",
    "    \"source\": {\n",
    "      \"from\": \"{{from}}{{^from}}0{{/from}}\",\n",
    "      \"size\": \"{{size}}{{^size}}10{{/size}}\",\n",
    "      \"query\": {\n",
    "            \"knn\": {\n",
    "                \"company_embeddings\": {\n",
    "                    \"vector\": \"{{query_embeddings}}\",\n",
    "                    \"k\": 10\n",
    "                }\n",
    "            }\n",
    "        }\n",
    "    },\n",
    "    \"params\": {\n",
    "      \"query_embeddings\": []\n",
    "    }\n",
    "  }\n",
    "})\n"
   ],
   "id": "ad249a6eb65b9d2b",
   "execution_count": null,
   "outputs": []
  },
  {
   "metadata": {},
   "cell_type": "markdown",
   "source": [
    "# Building the app\n",
    "I have created a simple Streamlit app to compare the search results from the keyword search and the embedding search. The app is available in the st_compare_app.py file. The command below launches the app."
   ],
   "id": "116f85b85502f8e7"
  },
  {
   "metadata": {},
   "cell_type": "code",
   "source": "!streamlit run st_compare_app.py",
   "id": "1582cfa6f118054f",
   "outputs": [],
   "execution_count": null
  },
  {
   "metadata": {},
   "cell_type": "markdown",
   "source": [
    "## Search examples\n",
    "\n",
    "Try searching for following queries that I used and found the results quite interesting:\n",
    "- Religious organisations\n",
    "- Hot Coals Catering\n",
    "- Catering"
   ],
   "id": "d9ffebbed1ee4177"
  },
  {
   "metadata": {},
   "cell_type": "markdown",
   "source": [
    "# Conclusion\n",
    "The embedding search is quite interesting and can be used to find similar companies based on what they do. The keyword search is quite useful for finding companies based on their names. The embedding search can be further refined by using a more sophisticated model and by using more data. The keyword search can be improved by using a more sophisticated search engine like ElasticSearch or OpenSearch.\n",
    "\n",
    "One thing that found interesting if we can find a company description (if we link to another dataset) and use that as a search query. This can be quite useful in finding companies that do similar things. "
   ],
   "id": "4195e0a8e45d0a8d"
  }
 ],
 "metadata": {
  "kernelspec": {
   "display_name": "Python 3",
   "language": "python",
   "name": "python3"
  },
  "language_info": {
   "codemirror_mode": {
    "name": "ipython",
    "version": 2
   },
   "file_extension": ".py",
   "mimetype": "text/x-python",
   "name": "python",
   "nbconvert_exporter": "python",
   "pygments_lexer": "ipython2",
   "version": "2.7.6"
  }
 },
 "nbformat": 4,
 "nbformat_minor": 5
}
